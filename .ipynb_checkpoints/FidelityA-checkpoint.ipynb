{
 "cells": [
  {
   "cell_type": "code",
   "execution_count": 1,
   "id": "f61610e1",
   "metadata": {},
   "outputs": [],
   "source": [
    "a=2\n"
   ]
  },
  {
   "cell_type": "code",
   "execution_count": 2,
   "id": "93105ed6",
   "metadata": {},
   "outputs": [],
   "source": [
    "b=2"
   ]
  },
  {
   "cell_type": "code",
   "execution_count": 3,
   "id": "9eda3c0d",
   "metadata": {},
   "outputs": [],
   "source": [
    "add = a+b"
   ]
  },
  {
   "cell_type": "code",
   "execution_count": 4,
   "id": "c54bd6b3",
   "metadata": {},
   "outputs": [
    {
     "name": "stdout",
     "output_type": "stream",
     "text": [
      "4\n"
     ]
    }
   ],
   "source": [
    "print(add)"
   ]
  },
  {
   "cell_type": "code",
   "execution_count": 5,
   "id": "0dfb68d1",
   "metadata": {},
   "outputs": [],
   "source": [
    "subtraction = a - b"
   ]
  },
  {
   "cell_type": "code",
   "execution_count": 6,
   "id": "09f1e498",
   "metadata": {},
   "outputs": [
    {
     "name": "stdout",
     "output_type": "stream",
     "text": [
      "0\n"
     ]
    }
   ],
   "source": [
    "print(subtraction)"
   ]
  },
  {
   "cell_type": "code",
   "execution_count": 7,
   "id": "6fafa302",
   "metadata": {},
   "outputs": [],
   "source": [
    "divide = a/b"
   ]
  },
  {
   "cell_type": "code",
   "execution_count": 8,
   "id": "bbf50961",
   "metadata": {},
   "outputs": [
    {
     "name": "stdout",
     "output_type": "stream",
     "text": [
      "1.0\n"
     ]
    }
   ],
   "source": [
    "print(divide)"
   ]
  },
  {
   "cell_type": "code",
   "execution_count": null,
   "id": "318ff67f",
   "metadata": {},
   "outputs": [],
   "source": []
  }
 ],
 "metadata": {
  "kernelspec": {
   "display_name": "Python 3 (ipykernel)",
   "language": "python",
   "name": "python3"
  },
  "language_info": {
   "codemirror_mode": {
    "name": "ipython",
    "version": 3
   },
   "file_extension": ".py",
   "mimetype": "text/x-python",
   "name": "python",
   "nbconvert_exporter": "python",
   "pygments_lexer": "ipython3",
   "version": "3.9.7"
  }
 },
 "nbformat": 4,
 "nbformat_minor": 5
}
